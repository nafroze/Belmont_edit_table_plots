{
 "cells": [
  {
   "cell_type": "code",
   "execution_count": 1,
   "id": "5846777e",
   "metadata": {},
   "outputs": [],
   "source": [
    "import pandas as pd\n",
    "import json\n",
    "import matplotlib.pyplot as plt"
   ]
  },
  {
   "cell_type": "code",
   "execution_count": 2,
   "id": "796bf0c1",
   "metadata": {},
   "outputs": [],
   "source": [
    "#Setting directory and read csv output from the GEE\n",
    "belmontdir = \"C:/Users/Nazia/Documents/OSU/Belmont/PlotData/\"\n",
    "doyNTL_grid3 = \"allNTL_grid3.csv\" \n",
    "df = pd.read_csv(belmontdir + doyNTL_grid3)"
   ]
  },
  {
   "cell_type": "code",
   "execution_count": 3,
   "id": "356e2fde",
   "metadata": {},
   "outputs": [
    {
     "data": {
      "text/plain": [
       "Index(['system:index', 'mean', 'settl_pcod', '.geo'], dtype='object')"
      ]
     },
     "execution_count": 3,
     "metadata": {},
     "output_type": "execute_result"
    }
   ],
   "source": [
    "df.columns"
   ]
  },
  {
   "cell_type": "code",
   "execution_count": 4,
   "id": "e33fcc9e",
   "metadata": {},
   "outputs": [],
   "source": [
    "df_dropped = df.drop(columns=[\".geo\"])\n",
    "\n",
    "new_file_path = \"C:/Users/Nazia/Documents/OSU/Belmont/Data/Dropped_doyNTL_grid3.csv\"\n",
    "df_dropped.to_csv(new_file_path, index=False)"
   ]
  },
  {
   "cell_type": "code",
   "execution_count": 5,
   "id": "e3a5e65b",
   "metadata": {},
   "outputs": [
    {
     "data": {
      "text/html": [
       "<div>\n",
       "<style scoped>\n",
       "    .dataframe tbody tr th:only-of-type {\n",
       "        vertical-align: middle;\n",
       "    }\n",
       "\n",
       "    .dataframe tbody tr th {\n",
       "        vertical-align: top;\n",
       "    }\n",
       "\n",
       "    .dataframe thead th {\n",
       "        text-align: right;\n",
       "    }\n",
       "</style>\n",
       "<table border=\"1\" class=\"dataframe\">\n",
       "  <thead>\n",
       "    <tr style=\"text-align: right;\">\n",
       "      <th></th>\n",
       "      <th>system:index</th>\n",
       "      <th>mean</th>\n",
       "      <th>settl_pcod</th>\n",
       "    </tr>\n",
       "  </thead>\n",
       "  <tbody>\n",
       "    <tr>\n",
       "      <th>0</th>\n",
       "      <td>2012_01_19_00000000000000000000</td>\n",
       "      <td>0.164565</td>\n",
       "      <td>MG11117000035</td>\n",
       "    </tr>\n",
       "    <tr>\n",
       "      <th>1</th>\n",
       "      <td>2012_01_20_00000000000000000000</td>\n",
       "      <td>0.361161</td>\n",
       "      <td>MG11117000035</td>\n",
       "    </tr>\n",
       "    <tr>\n",
       "      <th>2</th>\n",
       "      <td>2012_01_21_00000000000000000000</td>\n",
       "      <td>0.164565</td>\n",
       "      <td>MG11117000035</td>\n",
       "    </tr>\n",
       "    <tr>\n",
       "      <th>3</th>\n",
       "      <td>2012_01_22_00000000000000000000</td>\n",
       "      <td>0.164565</td>\n",
       "      <td>MG11117000035</td>\n",
       "    </tr>\n",
       "    <tr>\n",
       "      <th>4</th>\n",
       "      <td>2012_01_23_00000000000000000000</td>\n",
       "      <td>0.164565</td>\n",
       "      <td>MG11117000035</td>\n",
       "    </tr>\n",
       "  </tbody>\n",
       "</table>\n",
       "</div>"
      ],
      "text/plain": [
       "                      system:index      mean     settl_pcod\n",
       "0  2012_01_19_00000000000000000000  0.164565  MG11117000035\n",
       "1  2012_01_20_00000000000000000000  0.361161  MG11117000035\n",
       "2  2012_01_21_00000000000000000000  0.164565  MG11117000035\n",
       "3  2012_01_22_00000000000000000000  0.164565  MG11117000035\n",
       "4  2012_01_23_00000000000000000000  0.164565  MG11117000035"
      ]
     },
     "execution_count": 5,
     "metadata": {},
     "output_type": "execute_result"
    }
   ],
   "source": [
    "df_dropped.head(5)"
   ]
  },
  {
   "cell_type": "code",
   "execution_count": 6,
   "id": "86ab2b13",
   "metadata": {},
   "outputs": [],
   "source": [
    "#Create new column with only DOY from the index\n",
    "df_dropped['DoY'] = df_dropped['system:index'].astype(str).str[:10]"
   ]
  },
  {
   "cell_type": "code",
   "execution_count": 7,
   "id": "5ff7e713",
   "metadata": {},
   "outputs": [
    {
     "data": {
      "text/plain": [
       "Index(['system:index', 'mean', 'settl_pcod', 'DoY'], dtype='object')"
      ]
     },
     "execution_count": 7,
     "metadata": {},
     "output_type": "execute_result"
    }
   ],
   "source": [
    "df_dropped.columns"
   ]
  },
  {
   "cell_type": "code",
   "execution_count": 8,
   "id": "d78bfd0c",
   "metadata": {},
   "outputs": [],
   "source": [
    "#Pivot the table\n",
    "df_pivot = df_dropped.pivot(index='settl_pcod', columns='DoY', values='mean')"
   ]
  },
  {
   "cell_type": "code",
   "execution_count": 9,
   "id": "e8df88f5",
   "metadata": {},
   "outputs": [
    {
     "name": "stdout",
     "output_type": "stream",
     "text": [
      "DoY            2012_01_19  2012_01_20  2012_01_21  2012_01_22  2012_01_23  \\\n",
      "settl_pcod                                                                  \n",
      "MG11117000035    0.164565    0.361161    0.164565    0.164565    0.164565   \n",
      "\n",
      "DoY            2012_01_24  2012_01_25  2012_01_26  2012_01_27  2012_01_28  \\\n",
      "settl_pcod                                                                  \n",
      "MG11117000035    0.164565    0.164565    0.164565    0.238639      0.4004   \n",
      "\n",
      "DoY            ...  2023_12_21  2023_12_22  2023_12_23  2023_12_24  \\\n",
      "settl_pcod     ...                                                   \n",
      "MG11117000035  ...    0.133834    0.133834    0.133834    0.133834   \n",
      "\n",
      "DoY            2023_12_25  2023_12_26  2023_12_27  2023_12_28  2023_12_29  \\\n",
      "settl_pcod                                                                  \n",
      "MG11117000035    0.133834    0.133834    0.133834    0.133834    0.133834   \n",
      "\n",
      "DoY            2023_12_30  \n",
      "settl_pcod                 \n",
      "MG11117000035    0.641041  \n",
      "\n",
      "[1 rows x 4341 columns]\n"
     ]
    }
   ],
   "source": [
    "print(df_pivot)"
   ]
  },
  {
   "cell_type": "code",
   "execution_count": 10,
   "id": "5cfd0af3",
   "metadata": {},
   "outputs": [
    {
     "name": "stdout",
     "output_type": "stream",
     "text": [
      "settl_pcod\n"
     ]
    }
   ],
   "source": [
    "print(df_pivot.index.name)"
   ]
  },
  {
   "cell_type": "code",
   "execution_count": 11,
   "id": "ee3ccd3d",
   "metadata": {},
   "outputs": [],
   "source": [
    "# Specify the file path for the new CSV file\n",
    "output_file_path = belmontdir + \"pivoted_allNTL_grid3.csv\"  # Adjust the file name as needed\n",
    "\n",
    "# Save the pivoted DataFrame to a CSV file\n",
    "df_pivot.to_csv(output_file_path, index=True)"
   ]
  },
  {
   "cell_type": "code",
   "execution_count": 12,
   "id": "228d80c2",
   "metadata": {},
   "outputs": [],
   "source": [
    "# Load your CSV file\n",
    "df_new = pd.read_csv(\"C:/Users/Nazia/Documents/OSU/Belmont/PlotData/pivoted_allNTL_grid3.csv\")\n",
    "\n",
    "# Rename columns\n",
    "df_new.columns = [col.replace('_', '-') if col != 'settl_pcod' else col for col in df_new.columns]\n",
    "\n",
    "# Save the modified DataFrame back to a CSV file, if needed\n",
    "df_new.to_csv(\"C:/Users/Nazia/Documents/OSU/Belmont/PlotData/allNTL_grid3_datetime.csv\", index=False)\n"
   ]
  },
  {
   "cell_type": "code",
   "execution_count": 22,
   "id": "9c6b4d77",
   "metadata": {},
   "outputs": [
    {
     "name": "stdout",
     "output_type": "stream",
     "text": [
      "      settl_pcod  2012-01-19 00:00:00  2012-01-20 00:00:00  \\\n",
      "0  MG11117000035             0.164565             0.361161   \n",
      "\n",
      "   2012-01-21 00:00:00  2012-01-22 00:00:00  2012-01-23 00:00:00  \\\n",
      "0             0.164565             0.164565             0.164565   \n",
      "\n",
      "   2012-01-24 00:00:00  2012-01-25 00:00:00  2012-01-26 00:00:00  \\\n",
      "0             0.164565             0.164565             0.164565   \n",
      "\n",
      "   2012-01-27 00:00:00  ...  2023-12-21 00:00:00  2023-12-22 00:00:00  \\\n",
      "0             0.238639  ...             0.133834             0.133834   \n",
      "\n",
      "   2023-12-23 00:00:00  2023-12-24 00:00:00  2023-12-25 00:00:00  \\\n",
      "0             0.133834             0.133834             0.133834   \n",
      "\n",
      "   2023-12-26 00:00:00  2023-12-27 00:00:00  2023-12-28 00:00:00  \\\n",
      "0             0.133834             0.133834             0.133834   \n",
      "\n",
      "   2023-12-29 00:00:00  2023-12-30 00:00:00  \n",
      "0             0.133834             0.641041  \n",
      "\n",
      "[1 rows x 4342 columns]\n"
     ]
    }
   ],
   "source": [
    "print(df_new)"
   ]
  },
  {
   "cell_type": "code",
   "execution_count": 13,
   "id": "34c69a7a",
   "metadata": {},
   "outputs": [
    {
     "data": {
      "image/png": "[encoded data removed]",
      "text/plain": [
       "<Figure size 864x432 with 1 Axes>"
      ]
     },
     "metadata": {
      "needs_background": "light"
     },
     "output_type": "display_data"
    }
   ],
   "source": [
    "# Convert the column names to datetime, except for 'settl_pcod'\n",
    "df_new.columns = [pd.to_datetime(col) if col != 'settl_pcod' else col for col in df_new.columns]\n",
    "\n",
    "# Select the range of dates\n",
    "start_date = '2022-02-05' #Batsirai onset date\n",
    "end_date = pd.to_datetime(start_date) + pd.Timedelta(days=14)\n",
    "date_range = pd.date_range(start=start_date, end=end_date)\n",
    "\n",
    "# Filter the DataFrame for the selected date range\n",
    "filtered_df = df_new.loc[:, date_range]\n",
    "\n",
    "# Plotting\n",
    "plt.figure(figsize=(12, 6))\n",
    "for index, row in filtered_df.iterrows():\n",
    "    plt.plot(date_range, row, label=df_new.at[index, 'settl_pcod'])\n",
    "\n",
    "plt.title('Batsirai')\n",
    "plt.xlabel('Date')\n",
    "plt.ylabel('Values')\n",
    "plt.xticks(rotation=45)\n",
    "# Uncomment the next line if the legend is too cluttered\n",
    "# plt.legend()\n",
    "plt.show()"
   ]
  },
  {
   "cell_type": "code",
   "execution_count": 21,
   "id": "4572b866",
   "metadata": {},
   "outputs": [
    {
     "data": {
      "image/png": "[encoded data removed]",
      "text/plain": [
       "<Figure size 864x432 with 1 Axes>"
      ]
     },
     "metadata": {
      "needs_background": "light"
     },
     "output_type": "display_data"
    }
   ],
   "source": [
    "# Convert the column names to datetime, except for 'settl_pcod'\n",
    "df_new.columns = [pd.to_datetime(col) if col != 'settl_pcod' else col for col in df_new.columns]\n",
    "\n",
    "# Select the range of dates\n",
    "start_date = '2013-02-05' #Historical onset date\n",
    "end_date = pd.to_datetime(start_date) + pd.Timedelta(days=14)\n",
    "date_range = pd.date_range(start=start_date, end=end_date)\n",
    "\n",
    "# Filter the DataFrame for the selected date range\n",
    "filtered_df = df_new.loc[:, date_range]\n",
    "\n",
    "# Plotting\n",
    "plt.figure(figsize=(12, 6))\n",
    "for index, row in filtered_df.iterrows():\n",
    "    plt.plot(date_range, row, label=df_new.at[index, 'settl_pcod'])\n",
    "\n",
    "plt.title('Historical Trend')\n",
    "plt.xlabel('Date')\n",
    "plt.ylabel('Values')\n",
    "plt.xticks(rotation=45)\n",
    "# Uncomment the next line if the legend is too cluttered\n",
    "# plt.legend()\n",
    "plt.show()"
   ]
  },
  {
   "cell_type": "code",
   "execution_count": null,
   "id": "23ba16ed",
   "metadata": {},
   "outputs": [],
   "source": []
  }
 ],
 "metadata": {
  "kernelspec": {
   "display_name": "Python 3 (ipykernel)",
   "language": "python",
   "name": "python3"
  },
  "language_info": {
   "codemirror_mode": {
    "name": "ipython",
    "version": 3
   },
   "file_extension": ".py",
   "mimetype": "text/x-python",
   "name": "python",
   "nbconvert_exporter": "python",
   "pygments_lexer": "ipython3",
   "version": "3.9.7"
  }
 },
 "nbformat": 4,
 "nbformat_minor": 5
}
