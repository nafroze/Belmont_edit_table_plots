{
 "cells": [
  {
   "cell_type": "code",
   "execution_count": 1,
   "id": "5846777e",
   "metadata": {},
   "outputs": [],
   "source": [
    "import pandas as pd\n",
    "import geopandas as gpd\n",
    "import json\n",
    "import matplotlib.pyplot as plt\n",
    "import matplotlib.ticker as ticker"
   ]
  },
  {
   "cell_type": "markdown",
   "id": "e55941ee",
   "metadata": {},
   "source": [
    "# # # Load data and set directory"
   ]
  },
  {
   "cell_type": "code",
   "execution_count": 2,
   "id": "796bf0c1",
   "metadata": {},
   "outputs": [],
   "source": [
    "#Setting directory and read csv output from the GEE\n",
    "belmontdir = \"C:/Users/Nazia/Documents/OSU/Belmont/PlotData/\"\n",
    "doyNTL_allgrid3 = \"allNTL_allgrid3_props.csv\" \n",
    "df_allntl = pd.read_csv(belmontdir + doyNTL_allgrid3)"
   ]
  },
  {
   "cell_type": "code",
   "execution_count": 3,
   "id": "356e2fde",
   "metadata": {},
   "outputs": [
    {
     "data": {
      "text/plain": [
       "Index(['settl_pcod', 'NTLmean', 'YYYY_MM_DD'], dtype='object')"
      ]
     },
     "execution_count": 3,
     "metadata": {},
     "output_type": "execute_result"
    }
   ],
   "source": [
    "df_allntl.columns"
   ]
  },
  {
   "cell_type": "code",
   "execution_count": 4,
   "id": "872e6e45",
   "metadata": {},
   "outputs": [
    {
     "name": "stdout",
     "output_type": "stream",
     "text": [
      "            settl_pcod   NTLmean  YYYY_MM_DD\n",
      "0        MG11117000035  0.164565  2012-01-19\n",
      "1        MG11117000050  0.177991  2012-01-19\n",
      "2        MG11117000070  0.139347  2012-01-19\n",
      "3        MG11117000080  0.124084  2012-01-19\n",
      "4        MG11117000081  0.149829  2012-01-19\n",
      "...                ...       ...         ...\n",
      "2886760  MG72716000003  2.634741  2023-12-30\n",
      "2886761  MG72716000206  0.215901  2023-12-30\n",
      "2886762  MG72716000242  0.300109  2023-12-30\n",
      "2886763  MG72716000429  0.683501  2023-12-30\n",
      "2886764  MG72716000438  0.219506  2023-12-30\n",
      "\n",
      "[2886765 rows x 3 columns]\n"
     ]
    }
   ],
   "source": [
    "print(df_allntl)"
   ]
  },
  {
   "cell_type": "code",
   "execution_count": 5,
   "id": "46e86ca9",
   "metadata": {},
   "outputs": [
    {
     "name": "stdout",
     "output_type": "stream",
     "text": [
      "      settl_pcod   NTLmean YYYY_MM_DD\n",
      "0  MG11117000035  0.164565 2012-01-19\n",
      "1  MG11117000050  0.177991 2012-01-19\n",
      "2  MG11117000070  0.139347 2012-01-19\n",
      "3  MG11117000080  0.124084 2012-01-19\n",
      "4  MG11117000081  0.149829 2012-01-19\n"
     ]
    }
   ],
   "source": [
    "# Convert 'YYYY_MM_DD' column to datetime\n",
    "df_allntl['YYYY_MM_DD'] = pd.to_datetime(df_allntl['YYYY_MM_DD'])\n",
    "\n",
    "# Display the first few rows to verify the conversion\n",
    "print(df_allntl.head())\n"
   ]
  },
  {
   "cell_type": "code",
   "execution_count": 6,
   "id": "dad5c998",
   "metadata": {},
   "outputs": [],
   "source": [
    "# Pivot the table\n",
    "df_date = df_allntl.pivot(index='settl_pcod', columns='YYYY_MM_DD', values='NTLmean')\n",
    "\n",
    "# Save the modified DataFrame to a CSV file\n",
    "output_file = belmontdir + \"allNTL_allgrid3_datetime.csv\"\n",
    "df_date.to_csv(output_file, index=True)  # Set index=True to include 'settl_pcod' in the CSV"
   ]
  },
  {
   "cell_type": "code",
   "execution_count": 7,
   "id": "5cfd0af3",
   "metadata": {},
   "outputs": [
    {
     "name": "stdout",
     "output_type": "stream",
     "text": [
      "settl_pcod\n"
     ]
    }
   ],
   "source": [
    "print(df_date.index.name)"
   ]
  },
  {
   "cell_type": "code",
   "execution_count": 8,
   "id": "78ac4c02",
   "metadata": {},
   "outputs": [
    {
     "name": "stdout",
     "output_type": "stream",
     "text": [
      "DatetimeIndex(['2012-01-19', '2012-01-20', '2012-01-21', '2012-01-22',\n",
      "               '2012-01-23', '2012-01-24', '2012-01-25', '2012-01-26',\n",
      "               '2012-01-27', '2012-01-28',\n",
      "               ...\n",
      "               '2023-12-21', '2023-12-22', '2023-12-23', '2023-12-24',\n",
      "               '2023-12-25', '2023-12-26', '2023-12-27', '2023-12-28',\n",
      "               '2023-12-29', '2023-12-30'],\n",
      "              dtype='datetime64[ns]', name='YYYY_MM_DD', length=4341, freq=None)\n"
     ]
    }
   ],
   "source": [
    "print(df_date.columns)"
   ]
  },
  {
   "cell_type": "code",
   "execution_count": 9,
   "id": "7b30d8a2",
   "metadata": {},
   "outputs": [
    {
     "name": "stdout",
     "output_type": "stream",
     "text": [
      "Index(['MG00000000032', 'MG00000000033', 'MG00000000037', 'MG00000000038',\n",
      "       'MG11000000001', 'MG11000000005', 'MG11000000013', 'MG11000000022',\n",
      "       'MG11000000030', 'MG11000000034',\n",
      "       ...\n",
      "       'MG72712000205', 'MG72712000225', 'MG72712000227', 'MG72716000001',\n",
      "       'MG72716000002', 'MG72716000003', 'MG72716000206', 'MG72716000242',\n",
      "       'MG72716000429', 'MG72716000438'],\n",
      "      dtype='object', name='settl_pcod', length=665)\n"
     ]
    }
   ],
   "source": [
    "print(df_date.index)"
   ]
  },
  {
   "cell_type": "code",
   "execution_count": 10,
   "id": "a0d5a2f4",
   "metadata": {},
   "outputs": [],
   "source": [
    "# print(df_date)"
   ]
  },
  {
   "cell_type": "code",
   "execution_count": 11,
   "id": "325d3b30",
   "metadata": {},
   "outputs": [
    {
     "name": "stdout",
     "output_type": "stream",
     "text": [
      "Index(['Cyclone', 'Onset_Date', 'Segment_ID', 'NATURE'], dtype='object')\n"
     ]
    }
   ],
   "source": [
    "# Next up is the cyclone track data\n",
    "cyclone_track_gdf = gpd.read_file(belmontdir+\"MadTrack_SegmentID_DATE.shp\")\n",
    "#print(cyclone_track_gdf.columns)\n",
    "columns_to_keep = ['NAME', 'DATE', 'Segment_ID', 'NATURE']\n",
    "onset_df = cyclone_track_gdf[columns_to_keep]\n",
    "onset_df = onset_df.rename(columns={'NAME': 'Cyclone', 'DATE': 'Onset_Date'})\n",
    "print(onset_df.columns)"
   ]
  },
  {
   "cell_type": "code",
   "execution_count": 12,
   "id": "77d14ad2",
   "metadata": {},
   "outputs": [
    {
     "name": "stdout",
     "output_type": "stream",
     "text": [
      "        Cyclone  Onset_Date  Segment_ID NATURE\n",
      "0     NOT_NAMED  1980-01-10           1     NR\n",
      "1     NOT_NAMED  1980-01-10           2     NR\n",
      "2     NOT_NAMED  1980-01-10           3     NR\n",
      "3     NOT_NAMED  1980-01-10           4     NR\n",
      "4     NOT_NAMED  1980-01-10           5     NR\n",
      "...         ...         ...         ...    ...\n",
      "8284     FREDDY  2023-03-07          75     NR\n",
      "8285     FREDDY  2023-03-07          76     NR\n",
      "8286     FREDDY  2023-03-07          77     NR\n",
      "8287     FREDDY  2023-03-07          78     NR\n",
      "8288     FREDDY  2023-03-07          79     NR\n",
      "\n",
      "[8289 rows x 4 columns]\n"
     ]
    }
   ],
   "source": [
    "print(onset_df)"
   ]
  },
  {
   "cell_type": "code",
   "execution_count": 13,
   "id": "6704f965",
   "metadata": {},
   "outputs": [
    {
     "name": "stdout",
     "output_type": "stream",
     "text": [
      "['NOT_NAMED' 'HYACINTHE' 'KOLIA' 'BETTINA' 'BERT:CHRISTE' 'EDWIG'\n",
      " 'HELYETTE' 'IADINE' 'JOHANNE' 'KLARA' 'BENEDICTE' 'ELECTRE' 'FRIDA'\n",
      " 'JUSTINE' 'FELY' 'ANDRY' 'CABOTO' 'DOMOINA' 'GALY' 'IMBOA' 'KAMISY'\n",
      " 'ANETY' 'ESITERA' 'FELIKSA' 'HELISAONINA' 'ALIFREDY' 'BEROBIA' 'GISTA'\n",
      " 'HONORININA' 'ELIZABETHA' 'BENANDRO' 'CALIDERA' 'DOAZA' 'FILAO' 'HELY'\n",
      " 'CALASANJY' 'IANA' 'JINABO' 'ALIBERA' 'HANTA' 'CYNTHIA' 'BRYNA'\n",
      " 'DESSILIA' 'FINELLA' 'GRACIA' 'HUTELLE' 'IONIA' 'DAISY' 'GERALDA'\n",
      " 'JULITA' 'LITANNE' 'KELVINA' 'NADIA' 'CHRISTELLE' 'JOSTA' 'B29596'\n",
      " 'BONITA' 'DOLORESSE' 'EDWIGE' 'FABRIOLA' 'GRETELLE' 'JOSIE' 'BELTANE'\n",
      " 'DAVINA' 'ASTRIDE' 'ELINE:LEONE' 'GLORIA' 'HUDAH' 'DERA' 'CYPRIEN'\n",
      " 'GUILLAUME' 'HARY' 'KESINY' 'ATANG' 'DELFINA' 'FARI' 'JAPHET' 'MANOU'\n",
      " 'CELA' 'ELITA' 'GAFILO' 'BENTOJANA' 'ERNEST' 'FELAPI' 'BOLOETSE' 'ANITA'\n",
      " 'BONDO' 'CLOVIS' 'ENOK' 'FAVIO' 'INDLALA' 'JAYA' 'ELNUS' 'FAME' 'IVAN'\n",
      " 'JOKWE' 'ASMA' 'ERIC' 'FANELE' 'IZILDA' 'JADE' 'BONGANI' 'DAVID' 'FAMI'\n",
      " 'HUBERT' 'JOEL' 'BINGIZA' 'CHANDA' 'DANDO' 'GIOVANNA' 'IRINA' 'ANAIS'\n",
      " 'HARUNA' 'DELIWE' 'HELLEN' 'CHEDZA' 'FUNDI' 'HALIBA' 'ABELA' 'ENAWO'\n",
      " 'AVA' 'ELIAKIM' 'FAKIR' 'IDAI' 'KENNETH' 'BELNA' 'DIANE' 'FRANCISCO'\n",
      " 'HEROLD' 'CHALANE' 'ELOISE' 'IMAN' 'JOBO' 'ANA' 'BATSIRAI' 'DUMAKO'\n",
      " 'EMNATI' 'GOMBE' 'JASMINE' 'CHENESO' 'FREDDY']\n"
     ]
    }
   ],
   "source": [
    "unique_names = onset_df['Cyclone'].unique()\n",
    "print(unique_names)"
   ]
  },
  {
   "cell_type": "code",
   "execution_count": 14,
   "id": "71a67b0e",
   "metadata": {},
   "outputs": [
    {
     "name": "stdout",
     "output_type": "stream",
     "text": [
      "['NOT_NAMED' 'HYACINTHE' 'KOLIA' 'BETTINA' 'BERT:CHRISTE' 'EDWIG'\n",
      " 'HELYETTE' 'IADINE' 'JOHANNE' 'KLARA' 'BENEDICTE' 'ELECTRE' 'FRIDA'\n",
      " 'JUSTINE' 'FELY' 'ANDRY' 'CABOTO' 'DOMOINA' 'GALY' 'KAMISY' 'ANETY'\n",
      " 'ESITERA' 'FELIKSA' 'HELISAONINA' 'ALIFREDY' 'BEROBIA' 'GISTA'\n",
      " 'HONORININA' 'ELIZABETHA' 'BENANDRO' 'CALIDERA' 'DOAZA' 'FILAO' 'HELY'\n",
      " 'CALASANJY' 'IANA' 'JINABO' 'ALIBERA' 'HANTA' 'CYNTHIA' 'BRYNA'\n",
      " 'DESSILIA' 'FINELLA' 'GRACIA' 'HUTELLE' 'IONIA' 'DAISY' 'GERALDA'\n",
      " 'JULITA' 'LITANNE' 'KELVINA' 'NADIA' 'CHRISTELLE' 'JOSTA' 'B29596'\n",
      " 'BONITA' 'DOLORESSE' 'EDWIGE' 'FABRIOLA' 'GRETELLE' 'JOSIE' 'BELTANE'\n",
      " 'DAVINA' 'ASTRIDE' 'ELINE:LEONE' 'GLORIA' 'HUDAH' 'DERA' 'CYPRIEN'\n",
      " 'GUILLAUME' 'HARY' 'KESINY' 'ATANG' 'DELFINA' 'FARI' 'JAPHET' 'MANOU'\n",
      " 'CELA' 'ELITA' 'GAFILO' 'BENTOJANA' 'ERNEST' 'FELAPI' 'BOLOETSE' 'ANITA'\n",
      " 'BONDO' 'CLOVIS' 'ENOK' 'FAVIO' 'INDLALA' 'JAYA' 'ELNUS' 'FAME' 'IVAN'\n",
      " 'JOKWE' 'ASMA' 'ERIC' 'FANELE' 'IZILDA' 'JADE' 'BONGANI' 'DAVID' 'FAMI'\n",
      " 'HUBERT' 'JOEL' 'BINGIZA' 'CHANDA' 'DANDO' 'GIOVANNA' 'IRINA' 'ANAIS'\n",
      " 'HARUNA' 'DELIWE' 'HELLEN' 'CHEDZA' 'FUNDI' 'HALIBA' 'ABELA' 'ENAWO'\n",
      " 'AVA' 'ELIAKIM' 'FAKIR' 'IDAI' 'KENNETH' 'BELNA' 'DIANE' 'FRANCISCO'\n",
      " 'HEROLD' 'CHALANE' 'ELOISE' 'IMAN' 'JOBO' 'ANA']\n"
     ]
    }
   ],
   "source": [
    "# Now to find the storms that we'll filter for later\n",
    "# Filter the DataFrame for rows where NATURE_JS is not equal to 'NR'\n",
    "smallStorm_df = onset_df[onset_df['NATURE'] != 'NR']\n",
    "\n",
    "# Select the NAMES column from the filtered DataFrame\n",
    "smallstorm_names = smallStorm_df['Cyclone'].unique()\n",
    "\n",
    "# Print or use the selected names\n",
    "print(smallstorm_names)"
   ]
  },
  {
   "cell_type": "code",
   "execution_count": 15,
   "id": "0d01dd2a",
   "metadata": {},
   "outputs": [
    {
     "name": "stdout",
     "output_type": "stream",
     "text": [
      "['NOT_NAMED' 'KOLIA' 'FELY' 'IMBOA' 'ANETY' 'FELIKSA' 'CALIDERA'\n",
      " 'DESSILIA' 'DAISY' 'CHRISTELLE' 'BELTANE' 'DERA' 'CYPRIEN' 'GUILLAUME'\n",
      " 'GAFILO' 'FELAPI' 'INDLALA' 'HUBERT' 'BINGIZA' 'CHANDA' 'DIANE' 'IMAN'\n",
      " 'BATSIRAI' 'DUMAKO' 'EMNATI' 'GOMBE' 'JASMINE' 'CHENESO' 'FREDDY']\n"
     ]
    }
   ],
   "source": [
    "# Now to find the storms that we'll filter for later\n",
    "# Filter the DataFrame for rows where NATURE_JS is equal to 'NR'\n",
    "NR_Storm_df = onset_df[onset_df['NATURE'] == 'NR']\n",
    "\n",
    "# Select the NAMES column from the filtered DataFrame\n",
    "NR_storm_names = NR_Storm_df['Cyclone'].unique()\n",
    "\n",
    "# Print or use the selected names\n",
    "print(NR_storm_names)"
   ]
  },
  {
   "cell_type": "code",
   "execution_count": 16,
   "id": "0bd499af",
   "metadata": {},
   "outputs": [
    {
     "name": "stdout",
     "output_type": "stream",
     "text": [
      "     Cyclone  Onset_Date  Segment_ID NATURE\n",
      "6280  HUBERT  2010-03-07           1     TS\n",
      "6281  HUBERT  2010-03-07           2     TS\n",
      "6282  HUBERT  2010-03-07           3     TS\n",
      "6283  HUBERT  2010-03-07           4     TS\n",
      "6284  HUBERT  2010-03-07           5     TS\n",
      "...      ...         ...         ...    ...\n",
      "6360  HUBERT  2010-03-13          81     TS\n",
      "6361  HUBERT  2010-03-13          82     TS\n",
      "6362  HUBERT  2010-03-13          83     TS\n",
      "6363  HUBERT  2010-03-13          84     TS\n",
      "6364  HUBERT  2010-03-13          85     TS\n",
      "\n",
      "[85 rows x 4 columns]\n"
     ]
    }
   ],
   "source": [
    "filtered_rows = onset_df[onset_df['Cyclone'] == 'HUBERT']\n",
    "\n",
    "# Print the filtered rows\n",
    "print(filtered_rows)"
   ]
  },
  {
   "cell_type": "code",
   "execution_count": 17,
   "id": "696e4bca",
   "metadata": {},
   "outputs": [
    {
     "name": "stdout",
     "output_type": "stream",
     "text": [
      "['GIOVANNA' 'IRINA' 'ANAIS' 'HARUNA' 'DELIWE' 'HELLEN' 'CHEDZA' 'FUNDI'\n",
      " 'NOT_NAMED' 'HALIBA' 'ABELA' 'ENAWO' 'AVA' 'ELIAKIM' 'FAKIR' 'IDAI'\n",
      " 'KENNETH' 'BELNA' 'DIANE' 'FRANCISCO' 'HEROLD' 'CHALANE' 'ELOISE' 'IMAN'\n",
      " 'JOBO' 'ANA' 'BATSIRAI' 'DUMAKO' 'EMNATI' 'GOMBE' 'JASMINE' 'CHENESO'\n",
      " 'FREDDY']\n"
     ]
    }
   ],
   "source": [
    "# Ensure that 'Onset_Date' is in datetime format\n",
    "onset_df['Onset_Date'] = pd.to_datetime(onset_df['Onset_Date'])\n",
    "\n",
    "# Filter the DataFrame for rows where the year is 2012 or later\n",
    "filtered_df = onset_df[onset_df['Onset_Date'] >= pd.to_datetime('2012-01-19')]\n",
    "\n",
    "# Extract unique cyclone names\n",
    "Blck_Mrbl_unique = filtered_df['Cyclone'].unique()\n",
    "\n",
    "# Print the unique cyclone names\n",
    "print(Blck_Mrbl_unique)"
   ]
  },
  {
   "cell_type": "code",
   "execution_count": 18,
   "id": "25ffab60",
   "metadata": {},
   "outputs": [
    {
     "name": "stdout",
     "output_type": "stream",
     "text": [
      "Common elements: {'DAISY', 'BINGIZA', 'KOLIA', 'FELIKSA', 'CHRISTELLE', 'CALIDERA', 'BELTANE', 'FELAPI', 'DERA', 'GUILLAUME', 'DIANE', 'FELY', 'DESSILIA', 'GAFILO', 'HUBERT', 'IMAN', 'CYPRIEN', 'NOT_NAMED', 'CHANDA', 'ANETY', 'INDLALA'}\n",
      "['HYACINTHE', 'BETTINA', 'BERT:CHRISTE', 'EDWIG', 'HELYETTE', 'IADINE', 'JOHANNE', 'KLARA', 'BENEDICTE', 'ELECTRE', 'FRIDA', 'JUSTINE', 'ANDRY', 'CABOTO', 'DOMOINA', 'GALY', 'KAMISY', 'ESITERA', 'HELISAONINA', 'ALIFREDY', 'BEROBIA', 'GISTA', 'HONORININA', 'ELIZABETHA', 'BENANDRO', 'DOAZA', 'FILAO', 'HELY', 'CALASANJY', 'IANA', 'JINABO', 'ALIBERA', 'HANTA', 'CYNTHIA', 'BRYNA', 'FINELLA', 'GRACIA', 'HUTELLE', 'IONIA', 'GERALDA', 'JULITA', 'LITANNE', 'KELVINA', 'NADIA', 'JOSTA', 'B29596', 'BONITA', 'DOLORESSE', 'EDWIGE', 'FABRIOLA', 'GRETELLE', 'JOSIE', 'DAVINA', 'ASTRIDE', 'ELINE:LEONE', 'GLORIA', 'HUDAH', 'HARY', 'KESINY', 'ATANG', 'DELFINA', 'FARI', 'JAPHET', 'MANOU', 'CELA', 'ELITA', 'BENTOJANA', 'ERNEST', 'BOLOETSE', 'ANITA', 'BONDO', 'CLOVIS', 'ENOK', 'FAVIO', 'JAYA', 'ELNUS', 'FAME', 'IVAN', 'JOKWE', 'ASMA', 'ERIC', 'FANELE', 'IZILDA', 'JADE', 'BONGANI', 'DAVID', 'FAMI', 'JOEL', 'DANDO', 'GIOVANNA', 'IRINA', 'ANAIS', 'HARUNA', 'DELIWE', 'HELLEN', 'CHEDZA', 'FUNDI', 'HALIBA', 'ABELA', 'ENAWO', 'AVA', 'ELIAKIM', 'FAKIR', 'IDAI', 'KENNETH', 'BELNA', 'FRANCISCO', 'HEROLD', 'CHALANE', 'ELOISE', 'JOBO', 'ANA']\n"
     ]
    }
   ],
   "source": [
    "## Making sure there are no overlaps\n",
    "# Convert your lists to sets\n",
    "set_smallstorm_names = set(smallstorm_names)\n",
    "set_NR_storm_names = set(NR_storm_names)\n",
    "\n",
    "# Find the intersection\n",
    "common_elements = set_smallstorm_names.intersection(set_NR_storm_names)\n",
    "\n",
    "# Check if there is any overlap\n",
    "if common_elements:\n",
    "    print(\"Common elements:\", common_elements)\n",
    "else:\n",
    "    print(\"No common elements found.\")\n",
    "    \n",
    "# Remove elements from smallstorm_names that are in NR_Storm_names\n",
    "filtered_smallstorm_names = [name for name in smallstorm_names if name not in set_NR_storm_names]\n",
    "\n",
    "print(filtered_smallstorm_names)"
   ]
  },
  {
   "cell_type": "code",
   "execution_count": 19,
   "id": "ae41551b",
   "metadata": {},
   "outputs": [
    {
     "name": "stdout",
     "output_type": "stream",
     "text": [
      "['GIOVANNA' 'IRINA' 'ANAIS' 'HARUNA' 'DELIWE' 'HELLEN' 'CHEDZA' 'FUNDI'\n",
      " 'NOT_NAMED' 'HALIBA' 'ABELA' 'ENAWO' 'AVA' 'ELIAKIM' 'FAKIR' 'IDAI'\n",
      " 'KENNETH' 'BELNA' 'DIANE' 'FRANCISCO' 'HEROLD' 'CHALANE' 'ELOISE' 'IMAN'\n",
      " 'JOBO' 'ANA' 'BATSIRAI' 'DUMAKO' 'EMNATI' 'GOMBE' 'JASMINE' 'CHENESO'\n",
      " 'FREDDY']\n",
      "33\n"
     ]
    }
   ],
   "source": [
    "# Ensure that 'Onset_Date' is in datetime format\n",
    "onset_df['Onset_Date'] = pd.to_datetime(onset_df['Onset_Date'])\n",
    "\n",
    "# Filter the DataFrame for rows where the year is 2012 or later\n",
    "filtered_df = onset_df[onset_df['Onset_Date'] >= pd.to_datetime('2012-01-19')]\n",
    "\n",
    "# Extract unique cyclone names\n",
    "Blck_Mrbl_unique = filtered_df['Cyclone'].unique()\n",
    "\n",
    "# Print the unique cyclone names\n",
    "print(Blck_Mrbl_unique)\n",
    "print(len(Blck_Mrbl_unique))"
   ]
  },
  {
   "cell_type": "code",
   "execution_count": 20,
   "id": "cbf3df92",
   "metadata": {},
   "outputs": [
    {
     "data": {
      "image/png": "[encoded data removed]",
      "text/plain": [
       "<Figure size 864x432 with 1 Axes>"
      ]
     },
     "metadata": {
      "needs_background": "light"
     },
     "output_type": "display_data"
    }
   ],
   "source": [
    "# Set the cyclone name and the number of days for the time delta\n",
    "cyclone_name = 'BATSIRAI'\n",
    "lag = 28\n",
    "\n",
    "# Grid value\n",
    "grid3 = 'MG23209000001'\n",
    "\n",
    "# Check if the cyclone exists in the onset_df\n",
    "if cyclone_name in onset_df['Cyclone'].values:\n",
    "    # Get the onset date for the cyclone\n",
    "    cyclone_onset = onset_df.loc[onset_df['Cyclone'] == cyclone_name, 'Onset_Date'].values[0]\n",
    "\n",
    "    # Convert the onset date to datetime\n",
    "    cyclone_onset = pd.to_datetime(cyclone_onset)\n",
    "\n",
    "    # Select the range of dates (2 weeks before and 2 weeks after cyclone onset)\n",
    "    range_end = cyclone_onset + pd.Timedelta(days=lag)\n",
    "    date_range = pd.date_range(start=cyclone_onset, end=range_end)\n",
    "\n",
    "    # Check if 'grid3' value is in the DataFrame index and plot the data for it\n",
    "    if grid3 in df_date.index:\n",
    "        # Extract the row for 'grid3'\n",
    "        specific_row = df_date.loc[grid3, date_range]\n",
    "\n",
    "        # Plotting\n",
    "        plt.figure(figsize=(12, 6))\n",
    "        plt.plot(date_range, specific_row, label=grid3)\n",
    "\n",
    "        plt.title(f'{cyclone_name} - {grid3}')\n",
    "        plt.xlabel('Date')\n",
    "        plt.ylabel('Values')\n",
    "        plt.xticks(rotation=45)\n",
    "        plt.axvline(x=cyclone_onset, color='r', linestyle='-', label=f'{cyclone_name} Onset Date')\n",
    "        plt.legend()\n",
    "        plt.show()\n",
    "    else:\n",
    "        print(f\"Row with '{grid3}' not found.\")\n",
    "else:\n",
    "    print(f\"Onset date for '{cyclone_name}' cyclone not found in the onset_df.\")\n"
   ]
  },
  {
   "cell_type": "code",
   "execution_count": 21,
   "id": "56538074",
   "metadata": {
    "scrolled": false
   },
   "outputs": [
    {
     "name": "stderr",
     "output_type": "stream",
     "text": [
      "C:\\Users\\Nazia\\AppData\\Local\\Temp/ipykernel_24796/2087378543.py:44: UserWarning: FixedFormatter should only be used together with FixedLocator\n",
      "  ax.set_xticklabels(tick_labels, rotation=45)\n"
     ]
    },
    {
     "data": {
      "image/png": "[encoded data removed]",
      "text/plain": [
       "<Figure size 864x432 with 1 Axes>"
      ]
     },
     "metadata": {
      "needs_background": "light"
     },
     "output_type": "display_data"
    }
   ],
   "source": [
    "cyclone_name = 'BATSIRAI'\n",
    "lag = 14  # Number of days before and after the onset date\n",
    "grid3 = 'MG23209000001'  # Replace with your actual grid3 value\n",
    "\n",
    "# Check if the cyclone exists in the onset_df\n",
    "if cyclone_name in onset_df['Cyclone'].values:\n",
    "    # Prepare the plot\n",
    "    plt.figure(figsize=(12, 6))\n",
    "    ax = plt.gca()\n",
    "\n",
    "    # Get the onset date for the cyclone\n",
    "    cyclone_onset = pd.to_datetime(onset_df.loc[onset_df['Cyclone'] == cyclone_name, 'Onset_Date'].values[0])\n",
    "\n",
    "    # Convert columns to DateTime to enable filtering by date\n",
    "    df_date.columns = pd.to_datetime(df_date.columns)\n",
    "\n",
    "    # Loop through the desired years\n",
    "    for year in range(2013, 2023):  # Modify the range as needed\n",
    "        # Set the onset date for the current year\n",
    "        current_year_onset = cyclone_onset.replace(year=year)\n",
    "\n",
    "        # Define the start and end dates based on the lag\n",
    "        start_date = current_year_onset - pd.Timedelta(days=lag)\n",
    "        end_date = current_year_onset + pd.Timedelta(days=lag)\n",
    "\n",
    "        # Filter data for the specific 'settl_pcod' and date range\n",
    "        if grid3 in df_date.index:\n",
    "            # Select the data for the specific 'settl_pcod'\n",
    "            specific_data = df_date.loc[grid3]\n",
    "            \n",
    "            # Filter the data to include only the specified period around the onset date\n",
    "            specific_data = specific_data[(specific_data.index >= start_date) & (specific_data.index <= end_date)]\n",
    "\n",
    "            # Choose color based on the year\n",
    "            color = 'blue' if year == cyclone_onset.year else 'dimgrey'\n",
    "\n",
    "            # Plot the data for the specific year with a unique label\n",
    "            ax.plot(range(len(specific_data)), specific_data, label=f'Year {year}', color=color)\n",
    "\n",
    "    # Set the x-axis ticks and labels\n",
    "    total_days = 2 * lag + 1\n",
    "    ax.xaxis.set_major_locator(ticker.MultipleLocator(1))  # Set major ticks every day\n",
    "    tick_labels = [(cyclone_onset - pd.Timedelta(days=lag) + pd.Timedelta(days=i)).strftime('%m-%d') for i in range(total_days)]\n",
    "    ax.set_xticklabels(tick_labels, rotation=45)\n",
    "\n",
    "    # Adding a vertical red line at the onset date\n",
    "    ax.axvline(lag, color='red', linestyle='--', label='Cyclone Onset Date')  # Onset date is at position 'lag' in the range\n",
    "\n",
    "    # Title and labels\n",
    "    plt.title(f'Seasonal Trend for Cyclone {cyclone_name} at {grid3} from {lag} Days Pre to {lag} Days Post Onset')\n",
    "    plt.xlabel('Date (Month-Day)')\n",
    "    plt.ylabel('Values')\n",
    "\n",
    "    # Show the legend\n",
    "    plt.legend(title='Year')\n",
    "\n",
    "     # Adjust the legend position to the right of the plot\n",
    "    ax.legend(title='Year', loc='center left', bbox_to_anchor=(1, 0.5))\n",
    "\n",
    "    # Show the plot\n",
    "    plt.show()\n",
    "else:\n",
    "    print(f\"Cyclone name '{cyclone_name}' not found in the dataset.\")"
   ]
  },
  {
   "cell_type": "code",
   "execution_count": 22,
   "id": "d77b6a3c",
   "metadata": {
    "scrolled": false
   },
   "outputs": [],
   "source": [
    "# # Define the settlement as 'grid3'\n",
    "# grid3 = 'MG23209000001'\n",
    "\n",
    "# # Select the range of dates\n",
    "# post_start_date = '2023-01-22'  #2 weeks before Batsirai\n",
    "# post_end_date = pd.to_datetime(post_start_date) + pd.Timedelta(days=28)\n",
    "# date_range = pd.date_range(start=post_start_date, end=post_end_date)\n",
    "\n",
    "# # Check if 'grid3' value is in the DataFrame index and plot the data for it\n",
    "# if grid3 in df_date.index:\n",
    "#     # Extract the row for 'grid3'\n",
    "#     specific_row = df_date.loc[grid3, date_range]\n",
    "\n",
    "#     # Plotting\n",
    "#     plt.figure(figsize=(12, 6))\n",
    "#     plt.plot(date_range, specific_row, label=grid3)\n",
    "\n",
    "#     plt.title(f'Batsirai - {grid3}')\n",
    "#     plt.xlabel('Date')\n",
    "#     plt.ylabel('Values')\n",
    "#     plt.xticks(rotation=45)\n",
    "#     plt.axvline(x=pd.to_datetime('2023-02-05'), color='r', linestyle='-', label='Batsirai Onset Date')\n",
    "#     plt.legend()\n",
    "#     plt.show()\n",
    "# else:\n",
    "#     print(f\"Row with '{grid3}' not found.\")"
   ]
  },
  {
   "cell_type": "markdown",
   "id": "79e3379d",
   "metadata": {},
   "source": [
    "## Normalized difference in NTL two weeks after the cyclone onset"
   ]
  },
  {
   "cell_type": "markdown",
   "id": "879b2fe6",
   "metadata": {},
   "source": [
    "### Historical Pre and Post average value for Batsirai"
   ]
  },
  {
   "cell_type": "code",
   "execution_count": 23,
   "id": "d7348f31",
   "metadata": {},
   "outputs": [],
   "source": [
    "# # Set Cyclone Name and Lag value \n",
    "# cyclone_name = 'BATSIRAI'\n",
    "# lag = 14  # Number of days before the onset date\n",
    "\n",
    "# # Ensure 'Onset_Date' is in datetime format\n",
    "# onset_df['Onset_Date'] = pd.to_datetime(onset_df['Onset_Date'])\n",
    "\n",
    "# # Initialize an empty DataFrame to store the results\n",
    "# result_df = pd.DataFrame(index=df_date.index)\n",
    "\n",
    "# # Find the onset date for the specified cyclone\n",
    "# if cyclone_name in onset_df['Cyclone'].values:\n",
    "#     # Get the onset date\n",
    "#     cyclone_onset_date = onset_df[onset_df['Cyclone'] == cyclone_name]['Onset_Date'].iloc[0]\n",
    "\n",
    "#     # Create a boolean mask for the pre date range\n",
    "#     pre_date_mask_range = pd.date_range(start=cyclone_onset_date - pd.Timedelta(days=lag), end=cyclone_onset_date)\n",
    "\n",
    "#     # Apply the mask to filter the relevant columns for the pre date range\n",
    "#     pre_filtered_dates = df_date.columns[df_date.columns.isin(pre_date_mask_range)]\n",
    "\n",
    "#     # Calculate the mean for the filtered pre date range\n",
    "#     if not pre_filtered_dates.empty:\n",
    "#         hist_pre_average_values = df_date[pre_filtered_dates].mean(axis=1)\n",
    "#     else:\n",
    "#         print(f\"No data available for the specified pre date range for {cyclone_name}.\")\n",
    "#         hist_pre_average_values = pd.Series([float('nan')] * len(df_date), index=df_date.index)\n",
    "\n",
    "#     # Add pre values as new columns to the result DataFrame\n",
    "#     result_df[f'hist_pre_{cyclone_name}_average_values'] = hist_pre_average_values\n",
    "# else:\n",
    "#     print(f\"Cyclone '{cyclone_name}' not found in the dataset.\")\n",
    "\n",
    "# # Create updated_results_df with all pre values\n",
    "# updated_results_df = result_df.copy()\n",
    "\n",
    "# # Display the updated DataFrame\n",
    "# print(updated_results_df)\n"
   ]
  },
  {
   "cell_type": "code",
   "execution_count": 45,
   "id": "e2a86e65",
   "metadata": {},
   "outputs": [
    {
     "name": "stdout",
     "output_type": "stream",
     "text": [
      "               hist_pre_BATSIRAI_average_values_2012  \\\n",
      "settl_pcod                                             \n",
      "MG00000000032                               0.556707   \n",
      "MG00000000033                               0.595294   \n",
      "MG00000000037                               0.184602   \n",
      "MG00000000038                               0.237982   \n",
      "MG11000000001                               0.374317   \n",
      "...                                              ...   \n",
      "MG72716000003                               0.591909   \n",
      "MG72716000206                               0.187098   \n",
      "MG72716000242                               0.149262   \n",
      "MG72716000429                               0.127780   \n",
      "MG72716000438                               0.123125   \n",
      "\n",
      "               hist_pre_BATSIRAI_average_values_2013  \\\n",
      "settl_pcod                                             \n",
      "MG00000000032                               0.521684   \n",
      "MG00000000033                               0.621251   \n",
      "MG00000000037                               0.221496   \n",
      "MG00000000038                               0.283598   \n",
      "MG11000000001                               0.335127   \n",
      "...                                              ...   \n",
      "MG72716000003                               0.474808   \n",
      "MG72716000206                               0.234346   \n",
      "MG72716000242                               0.222541   \n",
      "MG72716000429                               0.132367   \n",
      "MG72716000438                               0.195410   \n",
      "\n",
      "               hist_pre_BATSIRAI_average_values_2014  \\\n",
      "settl_pcod                                             \n",
      "MG00000000032                               1.160358   \n",
      "MG00000000033                               1.063095   \n",
      "MG00000000037                               0.302882   \n",
      "MG00000000038                               0.275618   \n",
      "MG11000000001                               0.437502   \n",
      "...                                              ...   \n",
      "MG72716000003                               0.908726   \n",
      "MG72716000206                               0.215288   \n",
      "MG72716000242                               0.237966   \n",
      "MG72716000429                               0.195353   \n",
      "MG72716000438                               0.238598   \n",
      "\n",
      "               hist_pre_BATSIRAI_average_values_2015  \\\n",
      "settl_pcod                                             \n",
      "MG00000000032                               0.545217   \n",
      "MG00000000033                               0.975515   \n",
      "MG00000000037                               0.317959   \n",
      "MG00000000038                               0.312319   \n",
      "MG11000000001                               0.448278   \n",
      "...                                              ...   \n",
      "MG72716000003                               0.561611   \n",
      "MG72716000206                               0.191433   \n",
      "MG72716000242                               0.190997   \n",
      "MG72716000429                               0.211402   \n",
      "MG72716000438                               0.221257   \n",
      "\n",
      "               hist_pre_BATSIRAI_average_values_2016  \\\n",
      "settl_pcod                                             \n",
      "MG00000000032                               0.371203   \n",
      "MG00000000033                               0.806004   \n",
      "MG00000000037                               0.184911   \n",
      "MG00000000038                               0.253271   \n",
      "MG11000000001                               0.380871   \n",
      "...                                              ...   \n",
      "MG72716000003                               0.747884   \n",
      "MG72716000206                               0.114865   \n",
      "MG72716000242                               0.101718   \n",
      "MG72716000429                               0.108922   \n",
      "MG72716000438                               0.103215   \n",
      "\n",
      "               hist_pre_BATSIRAI_average_values_2017  \\\n",
      "settl_pcod                                             \n",
      "MG00000000032                               1.008950   \n",
      "MG00000000033                               0.853022   \n",
      "MG00000000037                               0.253101   \n",
      "MG00000000038                               0.332932   \n",
      "MG11000000001                               0.489902   \n",
      "...                                              ...   \n",
      "MG72716000003                               0.679667   \n",
      "MG72716000206                               0.202110   \n",
      "MG72716000242                               0.128665   \n",
      "MG72716000429                               0.138602   \n",
      "MG72716000438                               0.156706   \n",
      "\n",
      "               hist_pre_BATSIRAI_average_values_2018  \\\n",
      "settl_pcod                                             \n",
      "MG00000000032                               0.708240   \n",
      "MG00000000033                               1.104067   \n",
      "MG00000000037                               0.212047   \n",
      "MG00000000038                               0.287582   \n",
      "MG11000000001                               0.402019   \n",
      "...                                              ...   \n",
      "MG72716000003                               1.031549   \n",
      "MG72716000206                               0.295474   \n",
      "MG72716000242                               0.178376   \n",
      "MG72716000429                               0.111620   \n",
      "MG72716000438                               0.191634   \n",
      "\n",
      "               hist_pre_BATSIRAI_average_values_2019  \\\n",
      "settl_pcod                                             \n",
      "MG00000000032                               0.700963   \n",
      "MG00000000033                               0.768065   \n",
      "MG00000000037                               0.197583   \n",
      "MG00000000038                               0.288569   \n",
      "MG11000000001                               0.351601   \n",
      "...                                              ...   \n",
      "MG72716000003                               0.994613   \n",
      "MG72716000206                               0.110026   \n",
      "MG72716000242                               0.131949   \n",
      "MG72716000429                               0.124146   \n",
      "MG72716000438                               0.092156   \n",
      "\n",
      "               hist_pre_BATSIRAI_average_values_2020  \\\n",
      "settl_pcod                                             \n",
      "MG00000000032                               0.677480   \n",
      "MG00000000033                               0.891466   \n",
      "MG00000000037                               0.133179   \n",
      "MG00000000038                               0.285485   \n",
      "MG11000000001                               0.419894   \n",
      "...                                              ...   \n",
      "MG72716000003                               1.161243   \n",
      "MG72716000206                               0.164290   \n",
      "MG72716000242                               0.124099   \n",
      "MG72716000429                               0.120572   \n",
      "MG72716000438                               0.129731   \n",
      "\n",
      "               hist_pre_BATSIRAI_average_values_2021  \n",
      "settl_pcod                                            \n",
      "MG00000000032                               0.377674  \n",
      "MG00000000033                               0.637063  \n",
      "MG00000000037                               0.073480  \n",
      "MG00000000038                               0.123197  \n",
      "MG11000000001                               0.172551  \n",
      "...                                              ...  \n",
      "MG72716000003                               0.984359  \n",
      "MG72716000206                               0.098436  \n",
      "MG72716000242                               0.082403  \n",
      "MG72716000429                               0.131048  \n",
      "MG72716000438                               0.094317  \n",
      "\n",
      "[665 rows x 10 columns]\n"
     ]
    },
    {
     "data": {
      "text/plain": [
       "'result_df1.csv has been successfully saved.'"
      ]
     },
     "execution_count": 45,
     "metadata": {},
     "output_type": "execute_result"
    }
   ],
   "source": [
    "# Set Cyclone Name and Lag value \n",
    "cyclone_name = 'BATSIRAI'\n",
    "lag = 14  # Number of days before the onset date\n",
    "\n",
    "# Ensure 'Onset_Date' is in datetime format\n",
    "onset_df['Onset_Date'] = pd.to_datetime(onset_df['Onset_Date'])\n",
    "\n",
    "# Initialize an empty DataFrame to store the results\n",
    "result_df = pd.DataFrame(index=df_date.index)\n",
    "\n",
    "# Find the onset date for the specified cyclone\n",
    "if cyclone_name in onset_df['Cyclone'].values:\n",
    "    # Get the onset date for the cyclone\n",
    "    cyclone_onset_date = onset_df[onset_df['Cyclone'] == cyclone_name]['Onset_Date'].iloc[0]\n",
    "\n",
    "    # Determine the year of the cyclone onset\n",
    "    cyclone_onset_year = cyclone_onset_date.year\n",
    "\n",
    "    # Loop over each year before the cyclone onset year\n",
    "    for year in range(df_date.columns.year.min(), cyclone_onset_year):\n",
    "        # Define the date range for each year\n",
    "        pre_start_date = pd.Timestamp(year=year, month=cyclone_onset_date.month, day=cyclone_onset_date.day) - pd.Timedelta(days=lag)\n",
    "        pre_end_date = pd.Timestamp(year=year, month=cyclone_onset_date.month, day=cyclone_onset_date.day)\n",
    "\n",
    "        # Create the date mask range\n",
    "        pre_date_mask_range = pd.date_range(start=pre_start_date, end=pre_end_date)\n",
    "\n",
    "        # Filter for relevant columns\n",
    "        pre_filtered_dates = df_date.columns[df_date.columns.isin(pre_date_mask_range)]\n",
    "\n",
    "        # Calculate and store the mean values\n",
    "        if not pre_filtered_dates.empty:\n",
    "            result_df[f'hist_pre_{cyclone_name}_average_values_{year}'] = df_date[pre_filtered_dates].mean(axis=1)\n",
    "        else:\n",
    "            print(f\"No data available for the specified pre date range in {year}.\")\n",
    "else:\n",
    "    print(f\"Cyclone '{cyclone_name}' not found in the dataset.\")\n",
    "\n",
    "# Display the updated DataFrame\n",
    "print(result_df)\n",
    "\n",
    "# Save the DataFrame as a CSV file\n",
    "result_df.to_csv(belmontdir + 'result_df1.csv')\n",
    "\n",
    "# Display a message indicating the file was saved successfully\n",
    "\"result_df1.csv has been successfully saved.\""
   ]
  },
  {
   "cell_type": "code",
   "execution_count": 46,
   "id": "7b35dbf7",
   "metadata": {},
   "outputs": [
    {
     "name": "stdout",
     "output_type": "stream",
     "text": [
      "               hist_post_BATSIRAI_average_values_2012  \\\n",
      "settl_pcod                                              \n",
      "MG00000000032                                0.424614   \n",
      "MG00000000033                                0.547464   \n",
      "MG00000000037                                0.153338   \n",
      "MG00000000038                                0.239618   \n",
      "MG11000000001                                0.310061   \n",
      "...                                               ...   \n",
      "MG72716000003                                0.520954   \n",
      "MG72716000206                                0.160220   \n",
      "MG72716000242                                0.201410   \n",
      "MG72716000429                                0.153190   \n",
      "MG72716000438                                0.135691   \n",
      "\n",
      "               hist_post_BATSIRAI_average_values_2013  \\\n",
      "settl_pcod                                              \n",
      "MG00000000032                                0.571264   \n",
      "MG00000000033                                0.619686   \n",
      "MG00000000037                                0.272361   \n",
      "MG00000000038                                0.307980   \n",
      "MG11000000001                                0.333017   \n",
      "...                                               ...   \n",
      "MG72716000003                                0.634780   \n",
      "MG72716000206                                0.272637   \n",
      "MG72716000242                                0.254720   \n",
      "MG72716000429                                0.179271   \n",
      "MG72716000438                                0.252962   \n",
      "\n",
      "               hist_post_BATSIRAI_average_values_2014  \\\n",
      "settl_pcod                                              \n",
      "MG00000000032                                0.789515   \n",
      "MG00000000033                                1.056063   \n",
      "MG00000000037                                0.303813   \n",
      "MG00000000038                                0.280297   \n",
      "MG11000000001                                0.400664   \n",
      "...                                               ...   \n",
      "MG72716000003                                0.869681   \n",
      "MG72716000206                                0.193894   \n",
      "MG72716000242                                0.215434   \n",
      "MG72716000429                                0.214330   \n",
      "MG72716000438                                0.246106   \n",
      "\n",
      "               hist_post_BATSIRAI_average_values_2015  \\\n",
      "settl_pcod                                              \n",
      "MG00000000032                                0.529904   \n",
      "MG00000000033                                0.983317   \n",
      "MG00000000037                                0.298153   \n",
      "MG00000000038                                0.294558   \n",
      "MG11000000001                                0.389379   \n",
      "...                                               ...   \n",
      "MG72716000003                                0.609342   \n",
      "MG72716000206                                0.263678   \n",
      "MG72716000242                                0.261615   \n",
      "MG72716000429                                0.258796   \n",
      "MG72716000438                                0.268663   \n",
      "\n",
      "               hist_post_BATSIRAI_average_values_2016  \\\n",
      "settl_pcod                                              \n",
      "MG00000000032                                0.546682   \n",
      "MG00000000033                                0.811818   \n",
      "MG00000000037                                0.241413   \n",
      "MG00000000038                                0.288210   \n",
      "MG11000000001                                0.408613   \n",
      "...                                               ...   \n",
      "MG72716000003                                0.847513   \n",
      "MG72716000206                                0.187168   \n",
      "MG72716000242                                0.206760   \n",
      "MG72716000429                                0.222073   \n",
      "MG72716000438                                0.176774   \n",
      "\n",
      "               hist_post_BATSIRAI_average_values_2017  \\\n",
      "settl_pcod                                              \n",
      "MG00000000032                                1.148600   \n",
      "MG00000000033                                0.899100   \n",
      "MG00000000037                                0.253382   \n",
      "MG00000000038                                0.345656   \n",
      "MG11000000001                                0.427054   \n",
      "...                                               ...   \n",
      "MG72716000003                                0.604891   \n",
      "MG72716000206                                0.174598   \n",
      "MG72716000242                                0.126874   \n",
      "MG72716000429                                0.121545   \n",
      "MG72716000438                                0.119893   \n",
      "\n",
      "               hist_post_BATSIRAI_average_values_2018  \\\n",
      "settl_pcod                                              \n",
      "MG00000000032                                0.823467   \n",
      "MG00000000033                                1.100899   \n",
      "MG00000000037                                0.248059   \n",
      "MG00000000038                                0.327219   \n",
      "MG11000000001                                0.431115   \n",
      "...                                               ...   \n",
      "MG72716000003                                1.011704   \n",
      "MG72716000206                                0.150369   \n",
      "MG72716000242                                0.165534   \n",
      "MG72716000429                                0.154822   \n",
      "MG72716000438                                0.164162   \n",
      "\n",
      "               hist_post_BATSIRAI_average_values_2019  \\\n",
      "settl_pcod                                              \n",
      "MG00000000032                                0.794269   \n",
      "MG00000000033                                0.681404   \n",
      "MG00000000037                                0.172522   \n",
      "MG00000000038                                0.255639   \n",
      "MG11000000001                                0.331182   \n",
      "...                                               ...   \n",
      "MG72716000003                                0.975764   \n",
      "MG72716000206                                0.103845   \n",
      "MG72716000242                                0.110439   \n",
      "MG72716000429                                0.101103   \n",
      "MG72716000438                                0.091576   \n",
      "\n",
      "               hist_post_BATSIRAI_average_values_2020  \\\n",
      "settl_pcod                                              \n",
      "MG00000000032                                0.787627   \n",
      "MG00000000033                                0.825554   \n",
      "MG00000000037                                0.154131   \n",
      "MG00000000038                                0.279134   \n",
      "MG11000000001                                0.329414   \n",
      "...                                               ...   \n",
      "MG72716000003                                1.027070   \n",
      "MG72716000206                                0.137116   \n",
      "MG72716000242                                0.105509   \n",
      "MG72716000429                                0.115025   \n",
      "MG72716000438                                0.094158   \n",
      "\n",
      "               hist_post_BATSIRAI_average_values_2021  \n",
      "settl_pcod                                             \n",
      "MG00000000032                                0.463310  \n",
      "MG00000000033                                0.678205  \n",
      "MG00000000037                                0.087751  \n",
      "MG00000000038                                0.097963  \n",
      "MG11000000001                                0.218945  \n",
      "...                                               ...  \n",
      "MG72716000003                                0.930408  \n",
      "MG72716000206                                0.094215  \n",
      "MG72716000242                                0.046931  \n",
      "MG72716000429                                0.081277  \n",
      "MG72716000438                                0.060644  \n",
      "\n",
      "[665 rows x 10 columns]\n"
     ]
    },
    {
     "data": {
      "text/plain": [
       "'result_df2.csv has been successfully saved.'"
      ]
     },
     "execution_count": 46,
     "metadata": {},
     "output_type": "execute_result"
    }
   ],
   "source": [
    "# Set Cyclone Name and Lag value \n",
    "cyclone_name = 'BATSIRAI'\n",
    "lag = 14  # Number of days after the onset date\n",
    "\n",
    "# Ensure 'Onset_Date' is in datetime format\n",
    "onset_df['Onset_Date'] = pd.to_datetime(onset_df['Onset_Date'])\n",
    "\n",
    "# Initialize an empty DataFrame to store the results\n",
    "result_df = pd.DataFrame(index=df_date.index)\n",
    "\n",
    "# Find the onset date for the specified cyclone\n",
    "if cyclone_name in onset_df['Cyclone'].values:\n",
    "    # Get the onset date for the cyclone\n",
    "    cyclone_onset_date = onset_df[onset_df['Cyclone'] == cyclone_name]['Onset_Date'].iloc[0]\n",
    "\n",
    "    # Determine the year of the cyclone onset\n",
    "    cyclone_onset_year = cyclone_onset_date.year\n",
    "\n",
    "    # Loop over each year before the cyclone onset year\n",
    "    for year in range(df_date.columns.year.min(), cyclone_onset_year):\n",
    "        # Define the date range for each year\n",
    "        post_start_date = pd.Timestamp(year=year, month=cyclone_onset_date.month, day=cyclone_onset_date.day)\n",
    "        post_end_date = post_start_date + pd.Timedelta(days=lag)\n",
    "\n",
    "        # Create the date mask range\n",
    "        post_date_mask_range = pd.date_range(start=post_start_date, end=post_end_date)\n",
    "\n",
    "        # Filter for relevant columns\n",
    "        post_filtered_dates = df_date.columns[df_date.columns.isin(post_date_mask_range)]\n",
    "\n",
    "        # Calculate and store the mean values\n",
    "        if not post_filtered_dates.empty:\n",
    "            result_df[f'hist_post_{cyclone_name}_average_values_{year}'] = df_date[post_filtered_dates].mean(axis=1)\n",
    "        else:\n",
    "            print(f\"No data available for the specified post date range in {year}.\")\n",
    "else:\n",
    "    print(f\"Cyclone '{cyclone_name}' not found in the dataset.\")\n",
    "\n",
    "# updated_result_df = result_df.copy()\n",
    "print(result_df)\n",
    "\n",
    "# Save the DataFrame as a CSV file\n",
    "result_df.to_csv(belmontdir + 'result_df2.csv')\n",
    "\n",
    "# Display a message indicating the file was saved successfully\n",
    "\"result_df2.csv has been successfully saved.\""
   ]
  },
  {
   "cell_type": "code",
   "execution_count": 47,
   "id": "5fd7c3d9",
   "metadata": {},
   "outputs": [
    {
     "name": "stdout",
     "output_type": "stream",
     "text": [
      "               pre_BATSIRAI_average_values_2022\n",
      "settl_pcod                                     \n",
      "MG00000000032                          0.530633\n",
      "MG00000000033                          0.849729\n",
      "MG00000000037                          0.188549\n",
      "MG00000000038                          0.353101\n",
      "MG11000000001                          0.459586\n",
      "...                                         ...\n",
      "MG72716000003                          1.987876\n",
      "MG72716000206                          0.114587\n",
      "MG72716000242                          0.151023\n",
      "MG72716000429                          0.110312\n",
      "MG72716000438                          0.105420\n",
      "\n",
      "[665 rows x 1 columns]\n"
     ]
    },
    {
     "data": {
      "text/plain": [
       "'result_df3.csv has been successfully saved.'"
      ]
     },
     "execution_count": 47,
     "metadata": {},
     "output_type": "execute_result"
    }
   ],
   "source": [
    "# Set Cyclone Name and Lag value \n",
    "cyclone_name = 'BATSIRAI'\n",
    "lag = 14  # Number of days before the onset date\n",
    "\n",
    "# Ensure 'Onset_Date' is in datetime format\n",
    "onset_df['Onset_Date'] = pd.to_datetime(onset_df['Onset_Date'])\n",
    "\n",
    "# Initialize an empty DataFrame to store the results\n",
    "result_df = pd.DataFrame(index=df_date.index)\n",
    "\n",
    "# Find the onset date for the specified cyclone\n",
    "if cyclone_name in onset_df['Cyclone'].values:\n",
    "    # Get the onset date for the cyclone\n",
    "    cyclone_onset_date = onset_df[onset_df['Cyclone'] == cyclone_name]['Onset_Date'].iloc[0]\n",
    "    cyclone_onset_year = cyclone_onset_date.year  # Determine the year of the cyclone onset\n",
    "\n",
    "    # Define the date range for the onset year\n",
    "    pre_start_date = pd.Timestamp(year=cyclone_onset_year, month=cyclone_onset_date.month, day=cyclone_onset_date.day) - pd.Timedelta(days=lag)\n",
    "    pre_end_date = pd.Timestamp(year=cyclone_onset_year, month=cyclone_onset_date.month, day=cyclone_onset_date.day)\n",
    "\n",
    "    # Create the date mask range\n",
    "    pre_date_mask_range = pd.date_range(start=pre_start_date, end=pre_end_date)\n",
    "\n",
    "    # Filter for relevant columns\n",
    "    pre_filtered_dates = df_date.columns[df_date.columns.isin(pre_date_mask_range)]\n",
    "\n",
    "    # Calculate and store the mean values for the onset year\n",
    "    if not pre_filtered_dates.empty:\n",
    "        new_column_name = f'pre_{cyclone_name}_average_values_{cyclone_onset_year}'\n",
    "        result_df[new_column_name] = df_date[pre_filtered_dates].mean(axis=1)\n",
    "    else:\n",
    "        print(f\"No data available for the specified pre date range in {cyclone_onset_year}.\")\n",
    "else:\n",
    "    print(f\"Cyclone '{cyclone_name}' not found in the dataset.\")\n",
    "\n",
    "# Add the new column to the updated_result_df\n",
    "updated_result_df = result_df.copy()\n",
    "print(updated_result_df)\n",
    "\n",
    "# Save the DataFrame as a CSV file\n",
    "updated_result_df.to_csv(belmontdir + 'result_df3.csv')\n",
    "\n",
    "# Display a message indicating the file was saved successfully\n",
    "\"result_df3.csv has been successfully saved.\"\n"
   ]
  },
  {
   "cell_type": "code",
   "execution_count": 48,
   "id": "72a0b77c",
   "metadata": {},
   "outputs": [
    {
     "name": "stdout",
     "output_type": "stream",
     "text": [
      "               post_BATSIRAI_average_values_2022\n",
      "settl_pcod                                      \n",
      "MG00000000032                           0.587243\n",
      "MG00000000033                           0.969222\n",
      "MG00000000037                           0.264911\n",
      "MG00000000038                           0.369075\n",
      "MG11000000001                           0.497702\n",
      "...                                          ...\n",
      "MG72716000003                           1.966098\n",
      "MG72716000206                           0.186099\n",
      "MG72716000242                           0.205359\n",
      "MG72716000429                           0.086326\n",
      "MG72716000438                           0.133375\n",
      "\n",
      "[665 rows x 1 columns]\n"
     ]
    },
    {
     "data": {
      "text/plain": [
       "'result_df4.csv has been successfully saved.'"
      ]
     },
     "execution_count": 48,
     "metadata": {},
     "output_type": "execute_result"
    }
   ],
   "source": [
    "# Set Cyclone Name and Lag value \n",
    "cyclone_name = 'BATSIRAI'\n",
    "lag = 14  # Number of days after the onset date\n",
    "\n",
    "# Ensure 'Onset_Date' is in datetime format\n",
    "onset_df['Onset_Date'] = pd.to_datetime(onset_df['Onset_Date'])\n",
    "\n",
    "# Initialize an empty DataFrame to store the results\n",
    "result_df = pd.DataFrame(index=df_date.index)\n",
    "\n",
    "# Find the onset date for the specified cyclone\n",
    "if cyclone_name in onset_df['Cyclone'].values:\n",
    "    # Get the onset date for the cyclone\n",
    "    cyclone_onset_date = onset_df[onset_df['Cyclone'] == cyclone_name]['Onset_Date'].iloc[0]\n",
    "\n",
    "    # Determine the year of the cyclone onset\n",
    "    cyclone_onset_year = cyclone_onset_date.year\n",
    "\n",
    "    # Define the date range for the onset year\n",
    "    post_start_date = pd.Timestamp(year=cyclone_onset_year, month=cyclone_onset_date.month, day=cyclone_onset_date.day)\n",
    "    post_end_date = post_start_date + pd.Timedelta(days=lag)\n",
    "\n",
    "    # Create the date mask range\n",
    "    post_date_mask_range = pd.date_range(start=post_start_date, end=post_end_date)\n",
    "\n",
    "    # Filter for relevant columns\n",
    "    post_filtered_dates = df_date.columns[df_date.columns.isin(post_date_mask_range)]\n",
    "\n",
    "    # Calculate and store the mean values\n",
    "    if not post_filtered_dates.empty:\n",
    "        result_df[f'post_{cyclone_name}_average_values_{cyclone_onset_year}'] = df_date[post_filtered_dates].mean(axis=1)\n",
    "    else:\n",
    "        print(f\"No data available for the specified post date range in {cyclone_onset_year}.\")\n",
    "else:\n",
    "    print(f\"Cyclone '{cyclone_name}' not found in the dataset.\")\n",
    "\n",
    "updated_result_df = result_df.copy()\n",
    "print(updated_result_df)\n",
    "\n",
    "# Save the DataFrame as a CSV file\n",
    "updated_result_df.to_csv(belmontdir + 'result_df4.csv')\n",
    "\n",
    "# Display a message indicating the file was saved successfully\n",
    "\"result_df4.csv has been successfully saved.\"\n"
   ]
  },
  {
   "cell_type": "code",
   "execution_count": 56,
   "id": "403d62d5",
   "metadata": {},
   "outputs": [],
   "source": [
    "# Create file paths by concatenating directory path with file names\n",
    "file_paths = [belmontdir + file for file in ['result_df1.csv', 'result_df2.csv', 'result_df3.csv', 'result_df4.csv']]\n",
    "\n",
    "# Read each CSV file into a DataFrame\n",
    "dataframes = [pd.read_csv(file) for file in file_paths]\n",
    "\n",
    "# Merge (Concatenate) DataFrames horizontally\n",
    "merged_df = pd.concat(dataframes, axis=1)\n",
    "\n",
    "# Drop duplicate column names\n",
    "merged_df = merged_df.loc[:, ~merged_df.columns.duplicated()]\n",
    "\n",
    "# Save the merged DataFrame to a new CSV file\n",
    "merged_df.to_csv('merged_file.csv', index=False)"
   ]
  },
  {
   "cell_type": "code",
   "execution_count": 57,
   "id": "a4b234cc",
   "metadata": {},
   "outputs": [
    {
     "data": {
      "text/plain": [
       "Index(['settl_pcod', 'hist_pre_BATSIRAI_average_values_2012',\n",
       "       'hist_pre_BATSIRAI_average_values_2013',\n",
       "       'hist_pre_BATSIRAI_average_values_2014',\n",
       "       'hist_pre_BATSIRAI_average_values_2015',\n",
       "       'hist_pre_BATSIRAI_average_values_2016',\n",
       "       'hist_pre_BATSIRAI_average_values_2017',\n",
       "       'hist_pre_BATSIRAI_average_values_2018',\n",
       "       'hist_pre_BATSIRAI_average_values_2019',\n",
       "       'hist_pre_BATSIRAI_average_values_2020',\n",
       "       'hist_pre_BATSIRAI_average_values_2021',\n",
       "       'hist_post_BATSIRAI_average_values_2012',\n",
       "       'hist_post_BATSIRAI_average_values_2013',\n",
       "       'hist_post_BATSIRAI_average_values_2014',\n",
       "       'hist_post_BATSIRAI_average_values_2015',\n",
       "       'hist_post_BATSIRAI_average_values_2016',\n",
       "       'hist_post_BATSIRAI_average_values_2017',\n",
       "       'hist_post_BATSIRAI_average_values_2018',\n",
       "       'hist_post_BATSIRAI_average_values_2019',\n",
       "       'hist_post_BATSIRAI_average_values_2020',\n",
       "       'hist_post_BATSIRAI_average_values_2021',\n",
       "       'pre_BATSIRAI_average_values_2022',\n",
       "       'post_BATSIRAI_average_values_2022'],\n",
       "      dtype='object')"
      ]
     },
     "execution_count": 57,
     "metadata": {},
     "output_type": "execute_result"
    }
   ],
   "source": [
    "merged_df.columns"
   ]
  },
  {
   "cell_type": "markdown",
   "id": "77b4abf2",
   "metadata": {},
   "source": [
    "### Historical Pre and Post average value for Batsirai"
   ]
  },
  {
   "cell_type": "code",
   "execution_count": null,
   "id": "dfe530c0",
   "metadata": {},
   "outputs": [],
   "source": [
    "# # Calculate the percent difference\n",
    "# updated_results_df['hist_percent_difference'] = ((updated_results_df['mean_hist_post_bat_average_values'] - updated_results_df['mean_hist_pre_bat_average_values']) / updated_results_df['mean_hist_pre_bat_average_values']) * 100 \n",
    "\n",
    "# # Display the updated DataFrame\n",
    "# print(updated_results_df.head())\n"
   ]
  },
  {
   "cell_type": "code",
   "execution_count": null,
   "id": "393b3c68",
   "metadata": {},
   "outputs": [],
   "source": [
    "# # Calculate the percent difference\n",
    "# updated_results_df['bat_percent_difference'] = ((updated_results_df['post_bat_average_values_2022'] - updated_results_df['pre_bat_average_values_2022']) / updated_results_df['pre_bat_average_values_2022']) * 100 \n",
    "\n",
    "# # Display the updated DataFrame\n",
    "# print(updated_results_df.head())"
   ]
  },
  {
   "cell_type": "code",
   "execution_count": null,
   "id": "6c492da1",
   "metadata": {},
   "outputs": [],
   "source": [
    "\n"
   ]
  }
 ],
 "metadata": {
  "kernelspec": {
   "display_name": "Python 3 (ipykernel)",
   "language": "python",
   "name": "python3"
  },
  "language_info": {
   "codemirror_mode": {
    "name": "ipython",
    "version": 3
   },
   "file_extension": ".py",
   "mimetype": "text/x-python",
   "name": "python",
   "nbconvert_exporter": "python",
   "pygments_lexer": "ipython3",
   "version": "3.9.7"
  }
 },
 "nbformat": 4,
 "nbformat_minor": 5
}
